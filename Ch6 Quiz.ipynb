{
 "cells": [
  {
   "cell_type": "code",
   "execution_count": 17,
   "id": "98a576c7",
   "metadata": {},
   "outputs": [],
   "source": [
    "# Don't change this cell; just run it. \n",
    "\n",
    "#from datascience import *\n",
    "import numpy as np"
   ]
  },
  {
   "cell_type": "markdown",
   "id": "0563fb87",
   "metadata": {},
   "source": [
    "# Chapter 6 Quiz : Tables\n",
    "\n",
    "The [Python Reference](http://data8.org/sp22/python-reference.html) has information that will be useful for this quiz.\n",
    "\n",
    "The following table contains data on the population of MiraCosta student by ethnicity. (Each row represents one academic year.)\n",
    "\n",
    "Run the next cell to load the table. "
   ]
  },
  {
   "cell_type": "code",
   "execution_count": 22,
   "id": "7a2ec8a9",
   "metadata": {},
   "outputs": [],
   "source": [
    "# Just run this cell\n",
    "\n",
    "url='https://docs.google.com/spreadsheets/d/e/2PACX-1vSe3vKwHSKkAwYE6_Lh1CHs6vpY6ajrkJM5N9dLS3QjfDWAO7vVZpQFKyh-i0-y-IfUlflj5VY-476P/pub?output=csv'\n",
    "mcc_pop = Table.read_table(url).drop(1,2,12)"
   ]
  },
  {
   "cell_type": "markdown",
   "id": "a1c6f093",
   "metadata": {},
   "source": [
    "Let's examine our table to see what data it contains.\n",
    "\n",
    "**Question 1.** Use the method `show` to display the first 4 rows of `mcc_pop`. "
   ]
  },
  {
   "cell_type": "code",
   "execution_count": 21,
   "id": "944c8598",
   "metadata": {},
   "outputs": [
    {
     "data": {
      "text/html": [
       "<table border=\"1\" class=\"dataframe\">\n",
       "    <thead>\n",
       "        <tr>\n",
       "            <th>Academic Year </th> <th>Asian</th> <th>Black/African American</th> <th>Hispanic/Latino</th> <th>Middle Eastern or North African</th> <th>Native American or Alaskan Native</th> <th>Pacific Islander</th> <th>Two or More Races</th> <th>Unknown</th> <th>White</th> <th>Total</th>\n",
       "        </tr>\n",
       "    </thead>\n",
       "    <tbody>\n",
       "        <tr>\n",
       "            <td>2013-2014     </td> <td>2000 </td> <td>935                   </td> <td>8551           </td> <td>37                             </td> <td>112                              </td> <td>130             </td> <td>1447             </td> <td>583    </td> <td>11694</td> <td>25489</td>\n",
       "        </tr>\n",
       "        <tr>\n",
       "            <td>2014-2015     </td> <td>1996 </td> <td>878                   </td> <td>8776           </td> <td>52                             </td> <td>89                               </td> <td>116             </td> <td>1461             </td> <td>600    </td> <td>11232</td> <td>25200</td>\n",
       "        </tr>\n",
       "        <tr>\n",
       "            <td>2015-2016     </td> <td>2099 </td> <td>894                   </td> <td>9531           </td> <td>60                             </td> <td>94                               </td> <td>125             </td> <td>1491             </td> <td>554    </td> <td>11123</td> <td>25971</td>\n",
       "        </tr>\n",
       "        <tr>\n",
       "            <td>2016-2017     </td> <td>2129 </td> <td>872                   </td> <td>9845           </td> <td>70                             </td> <td>77                               </td> <td>141             </td> <td>1501             </td> <td>546    </td> <td>10748</td> <td>25929</td>\n",
       "        </tr>\n",
       "    </tbody>\n",
       "</table>\n",
       "<p>... (8 rows omitted)</p>"
      ],
      "text/plain": [
       "<IPython.core.display.HTML object>"
      ]
     },
     "metadata": {},
     "output_type": "display_data"
    }
   ],
   "source": [
    "mcc_pop.show(4)"
   ]
  },
  {
   "cell_type": "code",
   "execution_count": null,
   "id": "9bc6a9da",
   "metadata": {},
   "outputs": [],
   "source": []
  }
 ],
 "metadata": {
  "kernelspec": {
   "display_name": "Python 3 (ipykernel)",
   "language": "python",
   "name": "python3"
  },
  "language_info": {
   "codemirror_mode": {
    "name": "ipython",
    "version": 3
   },
   "file_extension": ".py",
   "mimetype": "text/x-python",
   "name": "python",
   "nbconvert_exporter": "python",
   "pygments_lexer": "ipython3",
   "version": "3.10.11"
  }
 },
 "nbformat": 4,
 "nbformat_minor": 5
}
