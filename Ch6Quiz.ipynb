{
 "cells": [
  {
   "cell_type": "code",
   "execution_count": null,
   "id": "98a576c7",
   "metadata": {},
   "outputs": [],
   "source": [
    "# Don't change this cell; just run it. \n",
    "\n",
    "#from datascience import *\n",
    "import numpy as np"
   ]
  },
  {
   "cell_type": "markdown",
   "id": "0563fb87",
   "metadata": {},
   "source": [
    "# Chapter 6 Quiz : Tables\n",
    "\n",
    "The [Python Reference](http://data8.org/sp22/python-reference.html) has information that will be useful for this quiz.\n",
    "\n",
    "The following table contains data on the population of MiraCosta student by ethnicity. (Each row represents one academic year.)\n",
    "\n",
    "Run the next cell to load the table. "
   ]
  },
  {
   "cell_type": "code",
   "execution_count": null,
   "id": "7a2ec8a9",
   "metadata": {},
   "outputs": [],
   "source": [
    "# Just run this cell\n",
    "\n",
    "url='https://docs.google.com/spreadsheets/d/e/2PACX-1vSe3vKwHSKkAwYE6_Lh1CHs6vpY6ajrkJM5N9dLS3QjfDWAO7vVZpQFKyh-i0-y-IfUlflj5VY-476P/pub?output=csv'\n",
    "mcc_pop = Table.read_table(url).drop(1,2,12)"
   ]
  },
  {
   "cell_type": "markdown",
   "id": "a1c6f093",
   "metadata": {},
   "source": [
    "Let's examine our table to see what data it contains.\n",
    "\n",
    "**Question 1.** Use the method `show` to display the first 6 rows of `mcc_pop`. "
   ]
  },
  {
   "cell_type": "code",
   "execution_count": null,
   "id": "944c8598",
   "metadata": {},
   "outputs": [],
   "source": [
    "mcc_pop.show(4)"
   ]
  },
  {
   "cell_type": "code",
   "execution_count": null,
   "id": "9bc6a9da",
   "metadata": {},
   "outputs": [],
   "source": []
  }
 ],
 "metadata": {
  "kernelspec": {
   "display_name": "Python 3 (ipykernel)",
   "language": "python",
   "name": "python3"
  },
  "language_info": {
   "codemirror_mode": {
    "name": "ipython",
    "version": 3
   },
   "file_extension": ".py",
   "mimetype": "text/x-python",
   "name": "python",
   "nbconvert_exporter": "python",
   "pygments_lexer": "ipython3",
   "version": "3.10.11"
  }
 },
 "nbformat": 4,
 "nbformat_minor": 5
}
